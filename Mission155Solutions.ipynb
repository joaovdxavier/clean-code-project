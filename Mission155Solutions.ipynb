{
 "cells": [
  {
   "cell_type": "markdown",
   "metadata": {
    "id": "pYIcdTvGKmtT"
   },
   "source": [
    "## Introduction To The Data Set"
   ]
  },
  {
   "cell_type": "code",
   "execution_count": 1,
   "metadata": {
    "id": "z3-3s9STKmta"
   },
   "outputs": [],
   "source": [
    "import pandas as pd\n",
    "import numpy as np\n",
    "\n",
    "pd.options.display.max_columns = 99"
   ]
  },
  {
   "cell_type": "code",
   "execution_count": 2,
   "metadata": {
    "id": "tkYFpkLYKmtd",
    "outputId": "d05a4b78-6422-44dd-d383-d721e1e89fdc"
   },
   "outputs": [
    {
     "ename": "FileNotFoundError",
     "evalue": "[Errno 2] No such file or directory: 'imports-85.data'",
     "output_type": "error",
     "traceback": [
      "\u001b[1;31m---------------------------------------------------------------------------\u001b[0m",
      "\u001b[1;31mFileNotFoundError\u001b[0m                         Traceback (most recent call last)",
      "\u001b[1;32m~\\AppData\\Local\\Temp/ipykernel_8264/3556587963.py\u001b[0m in \u001b[0;36m<module>\u001b[1;34m\u001b[0m\n\u001b[0;32m      2\u001b[0m         \u001b[1;34m'drive-wheels'\u001b[0m\u001b[1;33m,\u001b[0m \u001b[1;34m'engine-location'\u001b[0m\u001b[1;33m,\u001b[0m \u001b[1;34m'wheel-base'\u001b[0m\u001b[1;33m,\u001b[0m \u001b[1;34m'length'\u001b[0m\u001b[1;33m,\u001b[0m \u001b[1;34m'width'\u001b[0m\u001b[1;33m,\u001b[0m \u001b[1;34m'height'\u001b[0m\u001b[1;33m,\u001b[0m \u001b[1;34m'curb-weight'\u001b[0m\u001b[1;33m,\u001b[0m \u001b[1;34m'engine-type'\u001b[0m\u001b[1;33m,\u001b[0m\u001b[1;33m\u001b[0m\u001b[1;33m\u001b[0m\u001b[0m\n\u001b[0;32m      3\u001b[0m         'num-of-cylinders', 'engine-size', 'fuel-system', 'bore', 'stroke', 'compression-rate', 'horsepower', 'peak-rpm', 'city-mpg', 'highway-mpg', 'price']\n\u001b[1;32m----> 4\u001b[1;33m \u001b[0mcars\u001b[0m \u001b[1;33m=\u001b[0m \u001b[0mpd\u001b[0m\u001b[1;33m.\u001b[0m\u001b[0mread_csv\u001b[0m\u001b[1;33m(\u001b[0m\u001b[1;34m'imports-85.data'\u001b[0m\u001b[1;33m,\u001b[0m \u001b[0mnames\u001b[0m\u001b[1;33m=\u001b[0m\u001b[0mcols\u001b[0m\u001b[1;33m)\u001b[0m\u001b[1;33m\u001b[0m\u001b[1;33m\u001b[0m\u001b[0m\n\u001b[0m\u001b[0;32m      5\u001b[0m \u001b[1;33m\u001b[0m\u001b[0m\n\u001b[0;32m      6\u001b[0m \u001b[0mcars\u001b[0m\u001b[1;33m.\u001b[0m\u001b[0mhead\u001b[0m\u001b[1;33m(\u001b[0m\u001b[1;33m)\u001b[0m\u001b[1;33m\u001b[0m\u001b[1;33m\u001b[0m\u001b[0m\n",
      "\u001b[1;32m~\\anaconda3\\lib\\site-packages\\pandas\\util\\_decorators.py\u001b[0m in \u001b[0;36mwrapper\u001b[1;34m(*args, **kwargs)\u001b[0m\n\u001b[0;32m    309\u001b[0m                     \u001b[0mstacklevel\u001b[0m\u001b[1;33m=\u001b[0m\u001b[0mstacklevel\u001b[0m\u001b[1;33m,\u001b[0m\u001b[1;33m\u001b[0m\u001b[1;33m\u001b[0m\u001b[0m\n\u001b[0;32m    310\u001b[0m                 )\n\u001b[1;32m--> 311\u001b[1;33m             \u001b[1;32mreturn\u001b[0m \u001b[0mfunc\u001b[0m\u001b[1;33m(\u001b[0m\u001b[1;33m*\u001b[0m\u001b[0margs\u001b[0m\u001b[1;33m,\u001b[0m \u001b[1;33m**\u001b[0m\u001b[0mkwargs\u001b[0m\u001b[1;33m)\u001b[0m\u001b[1;33m\u001b[0m\u001b[1;33m\u001b[0m\u001b[0m\n\u001b[0m\u001b[0;32m    312\u001b[0m \u001b[1;33m\u001b[0m\u001b[0m\n\u001b[0;32m    313\u001b[0m         \u001b[1;32mreturn\u001b[0m \u001b[0mwrapper\u001b[0m\u001b[1;33m\u001b[0m\u001b[1;33m\u001b[0m\u001b[0m\n",
      "\u001b[1;32m~\\anaconda3\\lib\\site-packages\\pandas\\io\\parsers\\readers.py\u001b[0m in \u001b[0;36mread_csv\u001b[1;34m(filepath_or_buffer, sep, delimiter, header, names, index_col, usecols, squeeze, prefix, mangle_dupe_cols, dtype, engine, converters, true_values, false_values, skipinitialspace, skiprows, skipfooter, nrows, na_values, keep_default_na, na_filter, verbose, skip_blank_lines, parse_dates, infer_datetime_format, keep_date_col, date_parser, dayfirst, cache_dates, iterator, chunksize, compression, thousands, decimal, lineterminator, quotechar, quoting, doublequote, escapechar, comment, encoding, encoding_errors, dialect, error_bad_lines, warn_bad_lines, on_bad_lines, delim_whitespace, low_memory, memory_map, float_precision, storage_options)\u001b[0m\n\u001b[0;32m    584\u001b[0m     \u001b[0mkwds\u001b[0m\u001b[1;33m.\u001b[0m\u001b[0mupdate\u001b[0m\u001b[1;33m(\u001b[0m\u001b[0mkwds_defaults\u001b[0m\u001b[1;33m)\u001b[0m\u001b[1;33m\u001b[0m\u001b[1;33m\u001b[0m\u001b[0m\n\u001b[0;32m    585\u001b[0m \u001b[1;33m\u001b[0m\u001b[0m\n\u001b[1;32m--> 586\u001b[1;33m     \u001b[1;32mreturn\u001b[0m \u001b[0m_read\u001b[0m\u001b[1;33m(\u001b[0m\u001b[0mfilepath_or_buffer\u001b[0m\u001b[1;33m,\u001b[0m \u001b[0mkwds\u001b[0m\u001b[1;33m)\u001b[0m\u001b[1;33m\u001b[0m\u001b[1;33m\u001b[0m\u001b[0m\n\u001b[0m\u001b[0;32m    587\u001b[0m \u001b[1;33m\u001b[0m\u001b[0m\n\u001b[0;32m    588\u001b[0m \u001b[1;33m\u001b[0m\u001b[0m\n",
      "\u001b[1;32m~\\anaconda3\\lib\\site-packages\\pandas\\io\\parsers\\readers.py\u001b[0m in \u001b[0;36m_read\u001b[1;34m(filepath_or_buffer, kwds)\u001b[0m\n\u001b[0;32m    480\u001b[0m \u001b[1;33m\u001b[0m\u001b[0m\n\u001b[0;32m    481\u001b[0m     \u001b[1;31m# Create the parser.\u001b[0m\u001b[1;33m\u001b[0m\u001b[1;33m\u001b[0m\u001b[0m\n\u001b[1;32m--> 482\u001b[1;33m     \u001b[0mparser\u001b[0m \u001b[1;33m=\u001b[0m \u001b[0mTextFileReader\u001b[0m\u001b[1;33m(\u001b[0m\u001b[0mfilepath_or_buffer\u001b[0m\u001b[1;33m,\u001b[0m \u001b[1;33m**\u001b[0m\u001b[0mkwds\u001b[0m\u001b[1;33m)\u001b[0m\u001b[1;33m\u001b[0m\u001b[1;33m\u001b[0m\u001b[0m\n\u001b[0m\u001b[0;32m    483\u001b[0m \u001b[1;33m\u001b[0m\u001b[0m\n\u001b[0;32m    484\u001b[0m     \u001b[1;32mif\u001b[0m \u001b[0mchunksize\u001b[0m \u001b[1;32mor\u001b[0m \u001b[0miterator\u001b[0m\u001b[1;33m:\u001b[0m\u001b[1;33m\u001b[0m\u001b[1;33m\u001b[0m\u001b[0m\n",
      "\u001b[1;32m~\\anaconda3\\lib\\site-packages\\pandas\\io\\parsers\\readers.py\u001b[0m in \u001b[0;36m__init__\u001b[1;34m(self, f, engine, **kwds)\u001b[0m\n\u001b[0;32m    809\u001b[0m             \u001b[0mself\u001b[0m\u001b[1;33m.\u001b[0m\u001b[0moptions\u001b[0m\u001b[1;33m[\u001b[0m\u001b[1;34m\"has_index_names\"\u001b[0m\u001b[1;33m]\u001b[0m \u001b[1;33m=\u001b[0m \u001b[0mkwds\u001b[0m\u001b[1;33m[\u001b[0m\u001b[1;34m\"has_index_names\"\u001b[0m\u001b[1;33m]\u001b[0m\u001b[1;33m\u001b[0m\u001b[1;33m\u001b[0m\u001b[0m\n\u001b[0;32m    810\u001b[0m \u001b[1;33m\u001b[0m\u001b[0m\n\u001b[1;32m--> 811\u001b[1;33m         \u001b[0mself\u001b[0m\u001b[1;33m.\u001b[0m\u001b[0m_engine\u001b[0m \u001b[1;33m=\u001b[0m \u001b[0mself\u001b[0m\u001b[1;33m.\u001b[0m\u001b[0m_make_engine\u001b[0m\u001b[1;33m(\u001b[0m\u001b[0mself\u001b[0m\u001b[1;33m.\u001b[0m\u001b[0mengine\u001b[0m\u001b[1;33m)\u001b[0m\u001b[1;33m\u001b[0m\u001b[1;33m\u001b[0m\u001b[0m\n\u001b[0m\u001b[0;32m    812\u001b[0m \u001b[1;33m\u001b[0m\u001b[0m\n\u001b[0;32m    813\u001b[0m     \u001b[1;32mdef\u001b[0m \u001b[0mclose\u001b[0m\u001b[1;33m(\u001b[0m\u001b[0mself\u001b[0m\u001b[1;33m)\u001b[0m\u001b[1;33m:\u001b[0m\u001b[1;33m\u001b[0m\u001b[1;33m\u001b[0m\u001b[0m\n",
      "\u001b[1;32m~\\anaconda3\\lib\\site-packages\\pandas\\io\\parsers\\readers.py\u001b[0m in \u001b[0;36m_make_engine\u001b[1;34m(self, engine)\u001b[0m\n\u001b[0;32m   1038\u001b[0m             )\n\u001b[0;32m   1039\u001b[0m         \u001b[1;31m# error: Too many arguments for \"ParserBase\"\u001b[0m\u001b[1;33m\u001b[0m\u001b[1;33m\u001b[0m\u001b[0m\n\u001b[1;32m-> 1040\u001b[1;33m         \u001b[1;32mreturn\u001b[0m \u001b[0mmapping\u001b[0m\u001b[1;33m[\u001b[0m\u001b[0mengine\u001b[0m\u001b[1;33m]\u001b[0m\u001b[1;33m(\u001b[0m\u001b[0mself\u001b[0m\u001b[1;33m.\u001b[0m\u001b[0mf\u001b[0m\u001b[1;33m,\u001b[0m \u001b[1;33m**\u001b[0m\u001b[0mself\u001b[0m\u001b[1;33m.\u001b[0m\u001b[0moptions\u001b[0m\u001b[1;33m)\u001b[0m  \u001b[1;31m# type: ignore[call-arg]\u001b[0m\u001b[1;33m\u001b[0m\u001b[1;33m\u001b[0m\u001b[0m\n\u001b[0m\u001b[0;32m   1041\u001b[0m \u001b[1;33m\u001b[0m\u001b[0m\n\u001b[0;32m   1042\u001b[0m     \u001b[1;32mdef\u001b[0m \u001b[0m_failover_to_python\u001b[0m\u001b[1;33m(\u001b[0m\u001b[0mself\u001b[0m\u001b[1;33m)\u001b[0m\u001b[1;33m:\u001b[0m\u001b[1;33m\u001b[0m\u001b[1;33m\u001b[0m\u001b[0m\n",
      "\u001b[1;32m~\\anaconda3\\lib\\site-packages\\pandas\\io\\parsers\\c_parser_wrapper.py\u001b[0m in \u001b[0;36m__init__\u001b[1;34m(self, src, **kwds)\u001b[0m\n\u001b[0;32m     49\u001b[0m \u001b[1;33m\u001b[0m\u001b[0m\n\u001b[0;32m     50\u001b[0m         \u001b[1;31m# open handles\u001b[0m\u001b[1;33m\u001b[0m\u001b[1;33m\u001b[0m\u001b[0m\n\u001b[1;32m---> 51\u001b[1;33m         \u001b[0mself\u001b[0m\u001b[1;33m.\u001b[0m\u001b[0m_open_handles\u001b[0m\u001b[1;33m(\u001b[0m\u001b[0msrc\u001b[0m\u001b[1;33m,\u001b[0m \u001b[0mkwds\u001b[0m\u001b[1;33m)\u001b[0m\u001b[1;33m\u001b[0m\u001b[1;33m\u001b[0m\u001b[0m\n\u001b[0m\u001b[0;32m     52\u001b[0m         \u001b[1;32massert\u001b[0m \u001b[0mself\u001b[0m\u001b[1;33m.\u001b[0m\u001b[0mhandles\u001b[0m \u001b[1;32mis\u001b[0m \u001b[1;32mnot\u001b[0m \u001b[1;32mNone\u001b[0m\u001b[1;33m\u001b[0m\u001b[1;33m\u001b[0m\u001b[0m\n\u001b[0;32m     53\u001b[0m \u001b[1;33m\u001b[0m\u001b[0m\n",
      "\u001b[1;32m~\\anaconda3\\lib\\site-packages\\pandas\\io\\parsers\\base_parser.py\u001b[0m in \u001b[0;36m_open_handles\u001b[1;34m(self, src, kwds)\u001b[0m\n\u001b[0;32m    220\u001b[0m         \u001b[0mLet\u001b[0m \u001b[0mthe\u001b[0m \u001b[0mreaders\u001b[0m \u001b[0mopen\u001b[0m \u001b[0mIOHandles\u001b[0m \u001b[0mafter\u001b[0m \u001b[0mthey\u001b[0m \u001b[0mare\u001b[0m \u001b[0mdone\u001b[0m \u001b[1;32mwith\u001b[0m \u001b[0mtheir\u001b[0m \u001b[0mpotential\u001b[0m \u001b[0mraises\u001b[0m\u001b[1;33m.\u001b[0m\u001b[1;33m\u001b[0m\u001b[1;33m\u001b[0m\u001b[0m\n\u001b[0;32m    221\u001b[0m         \"\"\"\n\u001b[1;32m--> 222\u001b[1;33m         self.handles = get_handle(\n\u001b[0m\u001b[0;32m    223\u001b[0m             \u001b[0msrc\u001b[0m\u001b[1;33m,\u001b[0m\u001b[1;33m\u001b[0m\u001b[1;33m\u001b[0m\u001b[0m\n\u001b[0;32m    224\u001b[0m             \u001b[1;34m\"r\"\u001b[0m\u001b[1;33m,\u001b[0m\u001b[1;33m\u001b[0m\u001b[1;33m\u001b[0m\u001b[0m\n",
      "\u001b[1;32m~\\anaconda3\\lib\\site-packages\\pandas\\io\\common.py\u001b[0m in \u001b[0;36mget_handle\u001b[1;34m(path_or_buf, mode, encoding, compression, memory_map, is_text, errors, storage_options)\u001b[0m\n\u001b[0;32m    700\u001b[0m         \u001b[1;32mif\u001b[0m \u001b[0mioargs\u001b[0m\u001b[1;33m.\u001b[0m\u001b[0mencoding\u001b[0m \u001b[1;32mand\u001b[0m \u001b[1;34m\"b\"\u001b[0m \u001b[1;32mnot\u001b[0m \u001b[1;32min\u001b[0m \u001b[0mioargs\u001b[0m\u001b[1;33m.\u001b[0m\u001b[0mmode\u001b[0m\u001b[1;33m:\u001b[0m\u001b[1;33m\u001b[0m\u001b[1;33m\u001b[0m\u001b[0m\n\u001b[0;32m    701\u001b[0m             \u001b[1;31m# Encoding\u001b[0m\u001b[1;33m\u001b[0m\u001b[1;33m\u001b[0m\u001b[0m\n\u001b[1;32m--> 702\u001b[1;33m             handle = open(\n\u001b[0m\u001b[0;32m    703\u001b[0m                 \u001b[0mhandle\u001b[0m\u001b[1;33m,\u001b[0m\u001b[1;33m\u001b[0m\u001b[1;33m\u001b[0m\u001b[0m\n\u001b[0;32m    704\u001b[0m                 \u001b[0mioargs\u001b[0m\u001b[1;33m.\u001b[0m\u001b[0mmode\u001b[0m\u001b[1;33m,\u001b[0m\u001b[1;33m\u001b[0m\u001b[1;33m\u001b[0m\u001b[0m\n",
      "\u001b[1;31mFileNotFoundError\u001b[0m: [Errno 2] No such file or directory: 'imports-85.data'"
     ]
    }
   ],
   "source": [
    "cols = ['symboling', 'normalized-losses', 'make', 'fuel-type', 'aspiration', 'num-of-doors', 'body-style', \n",
    "        'drive-wheels', 'engine-location', 'wheel-base', 'length', 'width', 'height', 'curb-weight', 'engine-type', \n",
    "        'num-of-cylinders', 'engine-size', 'fuel-system', 'bore', 'stroke', 'compression-rate', 'horsepower', 'peak-rpm', 'city-mpg', 'highway-mpg', 'price']\n",
    "cars = pd.read_csv('imports-85.data', names=cols)\n",
    "\n",
    "cars.head()"
   ]
  },
  {
   "cell_type": "code",
   "execution_count": null,
   "metadata": {
    "id": "UZwfWRYsKmtg",
    "scrolled": true
   },
   "outputs": [],
   "source": [
    "# Select only the columns with continuous values from - https://archive.ics.uci.edu/ml/machine-learning-databases/autos/imports-85.names\n",
    "continuous_values_cols = ['normalized-losses', 'wheel-base', 'length', 'width', 'height', 'curb-weight', 'engine-size', 'bore', 'stroke', 'compression-rate', 'horsepower', 'peak-rpm', 'city-mpg', 'highway-mpg', 'price']\n",
    "numeric_cars = cars[continuous_values_cols]"
   ]
  },
  {
   "cell_type": "code",
   "execution_count": null,
   "metadata": {
    "id": "i5Sb0e34Kmth",
    "outputId": "4371863b-423d-41fd-db77-9c8fcb195222",
    "scrolled": true
   },
   "outputs": [],
   "source": [
    "numeric_cars.head(5)"
   ]
  },
  {
   "cell_type": "markdown",
   "metadata": {
    "id": "fkNwWRQtKmti"
   },
   "source": [
    "## Data Cleaning"
   ]
  },
  {
   "cell_type": "code",
   "execution_count": null,
   "metadata": {
    "id": "HI17nS8gKmti",
    "outputId": "c017e181-5166-44c0-de7b-0ca6e7d968f2",
    "scrolled": true
   },
   "outputs": [],
   "source": [
    "numeric_cars = numeric_cars.replace('?', np.nan)\n",
    "numeric_cars.head(5)"
   ]
  },
  {
   "cell_type": "code",
   "execution_count": null,
   "metadata": {
    "id": "GXJJPlKbKmtk",
    "outputId": "fcbdd3ac-dde8-4cb5-9f36-a75b36c1b591",
    "scrolled": true
   },
   "outputs": [],
   "source": [
    "numeric_cars = numeric_cars.astype('float')\n",
    "numeric_cars.isnull().sum()"
   ]
  },
  {
   "cell_type": "code",
   "execution_count": null,
   "metadata": {
    "id": "j2gb4OZbKmtl",
    "outputId": "d3ad5028-f5df-413f-b8d7-116bd0c06fe0",
    "scrolled": true
   },
   "outputs": [],
   "source": [
    "# Because `price` is the column we want to predict, let's remove any rows with missing `price` values.\n",
    "numeric_cars = numeric_cars.dropna(subset=['price'])\n",
    "numeric_cars.isnull().sum()"
   ]
  },
  {
   "cell_type": "code",
   "execution_count": null,
   "metadata": {
    "id": "2dJGDd8fKmtm",
    "scrolled": true
   },
   "outputs": [],
   "source": [
    "# Replace missing values in other columns using column means.\n",
    "numeric_cars = numeric_cars.fillna(numeric_cars.mean())"
   ]
  },
  {
   "cell_type": "code",
   "execution_count": null,
   "metadata": {
    "id": "fhHI62xKKmtn",
    "outputId": "67c206e8-27c1-44b1-9855-41fc60281692",
    "scrolled": true
   },
   "outputs": [],
   "source": [
    "# Confirm that there's no more missing values!\n",
    "numeric_cars.isnull().sum()"
   ]
  },
  {
   "cell_type": "code",
   "execution_count": null,
   "metadata": {
    "id": "OI5arESkKmto",
    "scrolled": true
   },
   "outputs": [],
   "source": [
    "# Normalize all columnns to range from 0 to 1 except the target column.\n",
    "price_col = numeric_cars['price']\n",
    "numeric_cars = (numeric_cars - numeric_cars.min())/(numeric_cars.max() - numeric_cars.min())\n",
    "numeric_cars['price'] = price_col"
   ]
  },
  {
   "cell_type": "markdown",
   "metadata": {
    "id": "PjIrJvnkKmtp"
   },
   "source": [
    "## Univariate Model"
   ]
  },
  {
   "cell_type": "code",
   "execution_count": null,
   "metadata": {
    "id": "R7Ab-KI6Kmtq",
    "outputId": "31671d8c-f1a6-457a-aa36-4431d3c7eacf",
    "scrolled": true
   },
   "outputs": [],
   "source": [
    "from sklearn.neighbors import KNeighborsRegressor\n",
    "from sklearn.metrics import mean_squared_error\n",
    "\n",
    "def knn_train_test(train_col, target_col, df):\n",
    "    knn = KNeighborsRegressor()\n",
    "    np.random.seed(1)\n",
    "        \n",
    "    # Randomize order of rows in data frame.\n",
    "    shuffled_index = np.random.permutation(df.index)\n",
    "    rand_df = df.reindex(shuffled_index)\n",
    "\n",
    "    # Divide number of rows in half and round.\n",
    "    last_train_row = int(len(rand_df) / 2)\n",
    "    \n",
    "    # Select the first half and set as training set.\n",
    "    # Select the second half and set as test set.\n",
    "    train_df = rand_df.iloc[0:last_train_row]\n",
    "    test_df = rand_df.iloc[last_train_row:]\n",
    "    \n",
    "    # Fit a KNN model using default k value.\n",
    "    knn.fit(train_df[[train_col]], train_df[target_col])\n",
    "    \n",
    "    # Make predictions using model.\n",
    "    predicted_labels = knn.predict(test_df[[train_col]])\n",
    "\n",
    "    # Calculate and return RMSE.\n",
    "    mse = mean_squared_error(test_df[target_col], predicted_labels)\n",
    "    rmse = np.sqrt(mse)\n",
    "    return rmse\n",
    "\n",
    "rmse_results = {}\n",
    "train_cols = numeric_cars.columns.drop('price')\n",
    "\n",
    "# For each column (minus `price`), train a model, return RMSE value\n",
    "# and add to the dictionary `rmse_results`.\n",
    "for col in train_cols:\n",
    "    rmse_val = knn_train_test(col, 'price', numeric_cars)\n",
    "    rmse_results[col] = rmse_val\n",
    "\n",
    "# Create a Series object from the dictionary so \n",
    "# we can easily view the results, sort, etc\n",
    "rmse_results_series = pd.Series(rmse_results)\n",
    "rmse_results_series.sort_values()"
   ]
  },
  {
   "cell_type": "code",
   "execution_count": null,
   "metadata": {
    "id": "77VTlBDbKmts",
    "outputId": "b03acb9c-538c-47af-edc9-9b198b8481ba",
    "scrolled": true
   },
   "outputs": [],
   "source": [
    "def knn_train_test(train_col, target_col, df):\n",
    "    np.random.seed(1)\n",
    "        \n",
    "    # Randomize order of rows in data frame.\n",
    "    shuffled_index = np.random.permutation(df.index)\n",
    "    rand_df = df.reindex(shuffled_index)\n",
    "\n",
    "    # Divide number of rows in half and round.\n",
    "    last_train_row = int(len(rand_df) / 2)\n",
    "    \n",
    "    # Select the first half and set as training set.\n",
    "    # Select the second half and set as test set.\n",
    "    train_df = rand_df.iloc[0:last_train_row]\n",
    "    test_df = rand_df.iloc[last_train_row:]\n",
    "    \n",
    "    k_values = [1,3,5,7,9]\n",
    "    k_rmses = {}\n",
    "    \n",
    "    for k in k_values:\n",
    "        # Fit model using k nearest neighbors.\n",
    "        knn = KNeighborsRegressor(n_neighbors=k)\n",
    "        knn.fit(train_df[[train_col]], train_df[target_col])\n",
    "\n",
    "        # Make predictions using model.\n",
    "        predicted_labels = knn.predict(test_df[[train_col]])\n",
    "\n",
    "        # Calculate and return RMSE.\n",
    "        mse = mean_squared_error(test_df[target_col], predicted_labels)\n",
    "        rmse = np.sqrt(mse)\n",
    "        \n",
    "        k_rmses[k] = rmse\n",
    "    return k_rmses\n",
    "\n",
    "k_rmse_results = {}\n",
    "\n",
    "# For each column (minus `price`), train a model, return RMSE value\n",
    "# and add to the dictionary `rmse_results`.\n",
    "train_cols = numeric_cars.columns.drop('price')\n",
    "for col in train_cols:\n",
    "    rmse_val = knn_train_test(col, 'price', numeric_cars)\n",
    "    k_rmse_results[col] = rmse_val\n",
    "\n",
    "k_rmse_results"
   ]
  },
  {
   "cell_type": "code",
   "execution_count": null,
   "metadata": {
    "id": "DMd0A5tFKmtt",
    "outputId": "19a9cab0-ee5d-4c7b-eb05-7c5764364ffd"
   },
   "outputs": [],
   "source": [
    "import matplotlib.pyplot as plt\n",
    "%matplotlib inline\n",
    "\n",
    "for k,v in k_rmse_results.items():\n",
    "    x = list(v.keys())\n",
    "    y = list(v.values())\n",
    "    \n",
    "    plt.plot(x,y)\n",
    "    plt.xlabel('k value')\n",
    "    plt.ylabel('RMSE')"
   ]
  },
  {
   "cell_type": "markdown",
   "metadata": {
    "id": "RZ8vp4QhKmtu"
   },
   "source": [
    "# Multivariate Model"
   ]
  },
  {
   "cell_type": "code",
   "execution_count": null,
   "metadata": {
    "id": "_H4fiZuDKmtu",
    "outputId": "b9e55c94-93f5-4bd6-b493-4531b74c3647"
   },
   "outputs": [],
   "source": [
    "# Compute average RMSE across different `k` values for each feature.\n",
    "feature_avg_rmse = {}\n",
    "for k,v in k_rmse_results.items():\n",
    "    avg_rmse = np.mean(list(v.values()))\n",
    "    feature_avg_rmse[k] = avg_rmse\n",
    "series_avg_rmse = pd.Series(feature_avg_rmse)\n",
    "sorted_series_avg_rmse = series_avg_rmse.sort_values()\n",
    "print(sorted_series_avg_rmse)\n",
    "\n",
    "sorted_features = sorted_series_avg_rmse.index"
   ]
  },
  {
   "cell_type": "code",
   "execution_count": null,
   "metadata": {
    "id": "KYKR96VyKmtv",
    "outputId": "a0a9eb0e-d3c9-43d8-fec9-d85616906cf1"
   },
   "outputs": [],
   "source": [
    "def knn_train_test(train_cols, target_col, df):\n",
    "    np.random.seed(1)\n",
    "    \n",
    "    # Randomize order of rows in data frame.\n",
    "    shuffled_index = np.random.permutation(df.index)\n",
    "    rand_df = df.reindex(shuffled_index)\n",
    "\n",
    "    # Divide number of rows in half and round.\n",
    "    last_train_row = int(len(rand_df) / 2)\n",
    "    \n",
    "    # Select the first half and set as training set.\n",
    "    # Select the second half and set as test set.\n",
    "    train_df = rand_df.iloc[0:last_train_row]\n",
    "    test_df = rand_df.iloc[last_train_row:]\n",
    "    \n",
    "    k_values = [5]\n",
    "    k_rmses = {}\n",
    "    \n",
    "    for k in k_values:\n",
    "        # Fit model using k nearest neighbors.\n",
    "        knn = KNeighborsRegressor(n_neighbors=k)\n",
    "        knn.fit(train_df[train_cols], train_df[target_col])\n",
    "\n",
    "        # Make predictions using model.\n",
    "        predicted_labels = knn.predict(test_df[train_cols])\n",
    "\n",
    "        # Calculate and return RMSE.\n",
    "        mse = mean_squared_error(test_df[target_col], predicted_labels)\n",
    "        rmse = np.sqrt(mse)\n",
    "        \n",
    "        k_rmses[k] = rmse\n",
    "    return k_rmses\n",
    "\n",
    "k_rmse_results = {}\n",
    "\n",
    "for nr_best_feats in range(2,7):\n",
    "    k_rmse_results['{} best features'.format(nr_best_feats)] = knn_train_test(\n",
    "        sorted_features[:nr_best_feats],\n",
    "        'price',\n",
    "        numeric_cars\n",
    "    )\n",
    "\n",
    "k_rmse_results"
   ]
  },
  {
   "cell_type": "markdown",
   "metadata": {
    "id": "A9qQALUOKmtx"
   },
   "source": [
    "# Hyperparameter Tuning"
   ]
  },
  {
   "cell_type": "code",
   "execution_count": null,
   "metadata": {
    "id": "95MsgLWNKmtx",
    "outputId": "8e0cea99-120c-450a-97a1-4597a32e2996",
    "scrolled": true
   },
   "outputs": [],
   "source": [
    "def knn_train_test(train_cols, target_col, df):\n",
    "    np.random.seed(1)\n",
    "    \n",
    "    # Randomize order of rows in data frame.\n",
    "    shuffled_index = np.random.permutation(df.index)\n",
    "    rand_df = df.reindex(shuffled_index)\n",
    "\n",
    "    # Divide number of rows in half and round.\n",
    "    last_train_row = int(len(rand_df) / 2)\n",
    "    \n",
    "    # Select the first half and set as training set.\n",
    "    # Select the second half and set as test set.\n",
    "    train_df = rand_df.iloc[0:last_train_row]\n",
    "    test_df = rand_df.iloc[last_train_row:]\n",
    "    \n",
    "    k_values = [i for i in range(1, 25)]\n",
    "    k_rmses = {}\n",
    "    \n",
    "    for k in k_values:\n",
    "        # Fit model using k nearest neighbors.\n",
    "        knn = KNeighborsRegressor(n_neighbors=k)\n",
    "        knn.fit(train_df[train_cols], train_df[target_col])\n",
    "\n",
    "        # Make predictions using model.\n",
    "        predicted_labels = knn.predict(test_df[train_cols])\n",
    "\n",
    "        # Calculate and return RMSE.\n",
    "        mse = mean_squared_error(test_df[target_col], predicted_labels)\n",
    "        rmse = np.sqrt(mse)\n",
    "        \n",
    "        k_rmses[k] = rmse\n",
    "    return k_rmses\n",
    "\n",
    "k_rmse_results = {}\n",
    "\n",
    "for nr_best_feats in range(2,6):\n",
    "    k_rmse_results['{} best features'.format(nr_best_feats)] = knn_train_test(\n",
    "        sorted_features[:nr_best_feats],\n",
    "        'price',\n",
    "        numeric_cars\n",
    "    )\n",
    "\n",
    "k_rmse_results"
   ]
  },
  {
   "cell_type": "code",
   "execution_count": null,
   "metadata": {
    "id": "rq-0Xk4qKmty",
    "outputId": "af47596f-a5de-4ca6-8327-840f01d50798"
   },
   "outputs": [],
   "source": [
    "for k,v in k_rmse_results.items():\n",
    "    x = list(v.keys())\n",
    "    y = list(v.values())  \n",
    "    plt.plot(x,y, label=\"{}\".format(k))\n",
    "    \n",
    "plt.xlabel('k value')\n",
    "plt.ylabel('RMSE')\n",
    "plt.legend()"
   ]
  }
 ],
 "metadata": {
  "colab": {
   "name": "Mission155Solutions.ipynb",
   "provenance": []
  },
  "kernelspec": {
   "display_name": "Python 3 (ipykernel)",
   "language": "python",
   "name": "python3"
  },
  "language_info": {
   "codemirror_mode": {
    "name": "ipython",
    "version": 3
   },
   "file_extension": ".py",
   "mimetype": "text/x-python",
   "name": "python",
   "nbconvert_exporter": "python",
   "pygments_lexer": "ipython3",
   "version": "3.9.7"
  }
 },
 "nbformat": 4,
 "nbformat_minor": 4
}
